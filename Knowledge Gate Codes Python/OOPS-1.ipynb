{
 "cells": [
  {
   "cell_type": "code",
   "execution_count": 4,
   "metadata": {},
   "outputs": [],
   "source": [
    "class Phone:\n",
    "    def call(self):\n",
    "        print(\"call kr bey kisi ko\")\n",
    "    def game(self):\n",
    "        print(\"pubg khelega bey\")"
   ]
  },
  {
   "cell_type": "code",
   "execution_count": 5,
   "metadata": {},
   "outputs": [],
   "source": [
    "p1 = Phone()"
   ]
  },
  {
   "cell_type": "code",
   "execution_count": 7,
   "metadata": {},
   "outputs": [
    {
     "name": "stdout",
     "output_type": "stream",
     "text": [
      "call kr bey kisi ko\n",
      "pubg khelega bey\n"
     ]
    }
   ],
   "source": [
    "p1.call()\n",
    "p1.game()"
   ]
  },
  {
   "cell_type": "code",
   "execution_count": 9,
   "metadata": {},
   "outputs": [],
   "source": [
    "class Phone:\n",
    "    def set_color(self,color):\n",
    "        self.color = color\n",
    "    def set_cost(self,cost):\n",
    "        self.cost = cost\n",
    "    def show_color(self):\n",
    "        return self.color    \n",
    "    def show_cost(self):\n",
    "        return self.cost\n",
    "    def call(self):\n",
    "        print(\"call kr bey\")\n",
    "    def game(self):\n",
    "        print(\"pubg khelega bey\")"
   ]
  },
  {
   "cell_type": "code",
   "execution_count": 10,
   "metadata": {},
   "outputs": [],
   "source": [
    "p2 = Phone()\n",
    "p2.set_color(\"white\")\n",
    "p2.set_cost(20000)"
   ]
  },
  {
   "cell_type": "code",
   "execution_count": 12,
   "metadata": {},
   "outputs": [
    {
     "data": {
      "text/plain": [
       "'white'"
      ]
     },
     "execution_count": 12,
     "metadata": {},
     "output_type": "execute_result"
    }
   ],
   "source": [
    "p2.show_color()"
   ]
  },
  {
   "cell_type": "code",
   "execution_count": 13,
   "metadata": {},
   "outputs": [
    {
     "data": {
      "text/plain": [
       "20000"
      ]
     },
     "execution_count": 13,
     "metadata": {},
     "output_type": "execute_result"
    }
   ],
   "source": [
    "p2.show_cost()"
   ]
  },
  {
   "cell_type": "code",
   "execution_count": 14,
   "metadata": {},
   "outputs": [
    {
     "name": "stdout",
     "output_type": "stream",
     "text": [
      "call kr bey\n"
     ]
    }
   ],
   "source": [
    "p2.call()"
   ]
  },
  {
   "cell_type": "code",
   "execution_count": 15,
   "metadata": {},
   "outputs": [
    {
     "name": "stdout",
     "output_type": "stream",
     "text": [
      "pubg khelega bey\n"
     ]
    }
   ],
   "source": [
    "p2.game()"
   ]
  },
  {
   "cell_type": "code",
   "execution_count": 25,
   "metadata": {},
   "outputs": [],
   "source": [
    "#creating a class with constructor\n",
    "class Employee:\n",
    "\n",
    "    def __init__(self,name,age,salary,gender):\n",
    "        self.name = name\n",
    "        self.age = age\n",
    "        self.salary = salary\n",
    "        self.gender = gender\n",
    "    \n",
    "    def employee_details(self):\n",
    "        print(\"Name of Employee is\",self.name)\n",
    "        print(\"Age of Employee is\",self.age)\n",
    "        print(\"Salary of Employee is\",self.salary)\n",
    "        print(\"Gender of Employee is\",self.gender)\n",
    "    "
   ]
  },
  {
   "cell_type": "code",
   "execution_count": 26,
   "metadata": {},
   "outputs": [],
   "source": [
    "e1 = Employee(\"Chintu\",25,100000,\"Male\")"
   ]
  },
  {
   "cell_type": "code",
   "execution_count": 27,
   "metadata": {},
   "outputs": [
    {
     "name": "stdout",
     "output_type": "stream",
     "text": [
      "Name of Employee is Chintu\n",
      "Age of Employee is 25\n",
      "Salary of Employee is 100000\n",
      "Gender of Employee is Male\n"
     ]
    }
   ],
   "source": [
    "e1.employee_details()"
   ]
  },
  {
   "cell_type": "markdown",
   "metadata": {},
   "source": [
    "# Types of Variable in OOPS "
   ]
  },
  {
   "cell_type": "code",
   "execution_count": 1,
   "metadata": {},
   "outputs": [
    {
     "name": "stdout",
     "output_type": "stream",
     "text": [
      "KIA 8 6\n",
      "KIA 10 6\n"
     ]
    }
   ],
   "source": [
    "class Car:\n",
    "    wheels=4\n",
    "    def __init__(self):\n",
    "        self.mil = 10\n",
    "        self.comp = \"KIA\"\n",
    "c1 = Car()        \n",
    "c2 = Car()\n",
    "c1.mil = 8\n",
    "Car.wheels = 6\n",
    "print(c1.comp,c1.mil,c1.wheels)\n",
    "print(c2.comp,c2.mil,c2.wheels)"
   ]
  },
  {
   "cell_type": "markdown",
   "metadata": {},
   "source": [
    "# Polymorphism"
   ]
  },
  {
   "cell_type": "code",
   "execution_count": 8,
   "metadata": {},
   "outputs": [
    {
     "name": "stdout",
     "output_type": "stream",
     "text": [
      "Compiling\n",
      "Running\n"
     ]
    }
   ],
   "source": [
    "class Pycharm:\n",
    "    def execute(self):\n",
    "        print(\"Compiling\")\n",
    "        print(\"Running\")\n",
    "class Intellij:\n",
    "     def execute(self):\n",
    "        print(\"Compiling\")\n",
    "        print(\"Running\")\n",
    "        print(\"Debugging\")\n",
    "        print(\"Code Runner\")\n",
    "        \n",
    "class Laptop:\n",
    "    def code(self,ide):\n",
    "        ide.execute()\n",
    "    \n",
    "ide = Pycharm()\n",
    "\n",
    "lap1 = Laptop()\n",
    "lap1.code(ide)"
   ]
  },
  {
   "cell_type": "markdown",
   "metadata": {},
   "source": [
    "# Operator Overloading"
   ]
  },
  {
   "cell_type": "code",
   "execution_count": 7,
   "metadata": {},
   "outputs": [
    {
     "name": "stdout",
     "output_type": "stream",
     "text": [
      "173\n",
      "116\n"
     ]
    }
   ],
   "source": [
    "class Student:\n",
    "    def __init__(self,m1,m2):\n",
    "        self.m1 = m1\n",
    "        self.m2 = m2\n",
    "    def __add__(self,other):\n",
    "        m1 = self.m1 + other.m1\n",
    "        m2 = self.m2 + other.m2\n",
    "        s3 = Student(m1,m2)\n",
    "        return s3\n",
    "    \n",
    "s1 = Student(98,59)\n",
    "s2 = Student(75,57)\n",
    "s3 = s1 + s2\n",
    "print(s3.m1)\n",
    "print(s3.m2)"
   ]
  },
  {
   "cell_type": "code",
   "execution_count": null,
   "metadata": {},
   "outputs": [],
   "source": []
  }
 ],
 "metadata": {
  "kernelspec": {
   "display_name": "Python 3 (ipykernel)",
   "language": "python",
   "name": "python3"
  },
  "language_info": {
   "codemirror_mode": {
    "name": "ipython",
    "version": 3
   },
   "file_extension": ".py",
   "mimetype": "text/x-python",
   "name": "python",
   "nbconvert_exporter": "python",
   "pygments_lexer": "ipython3",
   "version": "3.8.5"
  }
 },
 "nbformat": 4,
 "nbformat_minor": 4
}
