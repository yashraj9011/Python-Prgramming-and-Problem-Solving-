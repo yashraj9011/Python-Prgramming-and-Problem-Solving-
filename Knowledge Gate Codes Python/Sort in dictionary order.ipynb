{
 "cells": [
  {
   "cell_type": "code",
   "execution_count": 5,
   "id": "49206e7f",
   "metadata": {},
   "outputs": [
    {
     "name": "stdout",
     "output_type": "stream",
     "text": [
      "enter three strings separated by commasvinay,chintu,mintu\n",
      "chintu mintu vinay "
     ]
    },
    {
     "data": {
      "text/plain": [
       "[]"
      ]
     },
     "execution_count": 5,
     "metadata": {},
     "output_type": "execute_result"
    }
   ],
   "source": [
    "[x for x in sorted(input(\"enter three strings separated by commas\").split(',')) if print(x,end=' ')]"
   ]
  },
  {
   "cell_type": "code",
   "execution_count": 3,
   "id": "e91bad3d",
   "metadata": {},
   "outputs": [
    {
     "name": "stdout",
     "output_type": "stream",
     "text": [
      "bhai kuch number de de10,20,30\n",
      "[10, 20, 30]\n"
     ]
    }
   ],
   "source": [
    "l = [eval(x) for x in sorted(input(\"bhai kuch number de de\").split(','))]\n",
    "print(l)"
   ]
  }
 ],
 "metadata": {
  "kernelspec": {
   "display_name": "Python 3 (ipykernel)",
   "language": "python",
   "name": "python3"
  },
  "language_info": {
   "codemirror_mode": {
    "name": "ipython",
    "version": 3
   },
   "file_extension": ".py",
   "mimetype": "text/x-python",
   "name": "python",
   "nbconvert_exporter": "python",
   "pygments_lexer": "ipython3",
   "version": "3.8.5"
  }
 },
 "nbformat": 4,
 "nbformat_minor": 5
}
