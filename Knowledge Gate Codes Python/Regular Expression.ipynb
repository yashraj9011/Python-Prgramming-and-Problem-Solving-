{
 "cells": [
  {
   "cell_type": "code",
   "execution_count": 1,
   "id": "fee0efbe",
   "metadata": {},
   "outputs": [],
   "source": [
    "import re \n",
    "s = '''Chintu is 24 and Mintu is 22\n",
    "Pintu is 21 and Sintu is 20'''"
   ]
  },
  {
   "cell_type": "code",
   "execution_count": 2,
   "id": "246ca8fa",
   "metadata": {},
   "outputs": [
    {
     "data": {
      "text/plain": [
       "'Chintu is 24 and Mintu is 22\\nPintu is 21 and Sintu is 20'"
      ]
     },
     "execution_count": 2,
     "metadata": {},
     "output_type": "execute_result"
    }
   ],
   "source": [
    "s"
   ]
  },
  {
   "cell_type": "code",
   "execution_count": 5,
   "id": "7b6e3b42",
   "metadata": {},
   "outputs": [],
   "source": [
    "ages = re.findall(r'\\d{1,3}',s)"
   ]
  },
  {
   "cell_type": "code",
   "execution_count": 6,
   "id": "eb28ec4c",
   "metadata": {},
   "outputs": [
    {
     "data": {
      "text/plain": [
       "['24', '22', '21', '20']"
      ]
     },
     "execution_count": 6,
     "metadata": {},
     "output_type": "execute_result"
    }
   ],
   "source": [
    "ages"
   ]
  },
  {
   "cell_type": "code",
   "execution_count": 7,
   "id": "376d0fbb",
   "metadata": {},
   "outputs": [],
   "source": [
    "names = re.findall(r'[A-Z][a-z]*',s)"
   ]
  },
  {
   "cell_type": "code",
   "execution_count": 8,
   "id": "3a2f9827",
   "metadata": {},
   "outputs": [
    {
     "data": {
      "text/plain": [
       "['Chintu', 'Mintu', 'Pintu', 'Sintu']"
      ]
     },
     "execution_count": 8,
     "metadata": {},
     "output_type": "execute_result"
    }
   ],
   "source": [
    "names"
   ]
  },
  {
   "cell_type": "code",
   "execution_count": 9,
   "id": "f3d3024c",
   "metadata": {},
   "outputs": [
    {
     "name": "stdout",
     "output_type": "stream",
     "text": [
      "{'Chintu': '24', 'Mintu': '22', 'Pintu': '21', 'Sintu': '20'}\n"
     ]
    }
   ],
   "source": [
    "dict = {}\n",
    "x = 0\n",
    "for i in names:\n",
    "    dict[i] = ages[x]\n",
    "    x+=1\n",
    "print(dict)    "
   ]
  },
  {
   "cell_type": "code",
   "execution_count": 14,
   "id": "a1633a3d",
   "metadata": {},
   "outputs": [
    {
     "name": "stdout",
     "output_type": "stream",
     "text": [
      "Mil gaya\n"
     ]
    }
   ],
   "source": [
    "import re\n",
    "s = \"kyu bhai kat gaya kya? bhai ko laga tha uski wali alg hai\"\n",
    "if re.search('bhai',s):\n",
    "    print(\"Mil gaya\")"
   ]
  },
  {
   "cell_type": "code",
   "execution_count": 17,
   "id": "fdc34a2d",
   "metadata": {},
   "outputs": [
    {
     "name": "stdout",
     "output_type": "stream",
     "text": [
      "bhai\n",
      "bhai\n"
     ]
    }
   ],
   "source": [
    "a = re.findall('bhai',s)\n",
    "for i in a:\n",
    "    print(i)"
   ]
  },
  {
   "cell_type": "code",
   "execution_count": 18,
   "id": "cffda868",
   "metadata": {},
   "outputs": [
    {
     "name": "stdout",
     "output_type": "stream",
     "text": [
      "(4, 8)\n",
      "(23, 27)\n"
     ]
    }
   ],
   "source": [
    "for i in re.finditer('bhai',s):\n",
    "    l = i.span()\n",
    "    print(l)"
   ]
  },
  {
   "cell_type": "code",
   "execution_count": 20,
   "id": "6dbaebba",
   "metadata": {},
   "outputs": [
    {
     "name": "stdout",
     "output_type": "stream",
     "text": [
      "Sat\n",
      "hat\n",
      "mat\n",
      "pat\n"
     ]
    }
   ],
   "source": [
    "import re\n",
    "str = 'Sat,hat,mat,pat'\n",
    "s1 = re.findall('[Shmp]at',str)\n",
    "for i in s1:\n",
    "    print(i)"
   ]
  },
  {
   "cell_type": "code",
   "execution_count": 23,
   "id": "25cd4c48",
   "metadata": {},
   "outputs": [
    {
     "name": "stdout",
     "output_type": "stream",
     "text": [
      "hat food mat pat\n"
     ]
    }
   ],
   "source": [
    "import re \n",
    "f = 'hat rat mat pat'\n",
    "regex = re.compile('[r]at')\n",
    "f = regex.sub('food',f)\n",
    "print(f)"
   ]
  },
  {
   "cell_type": "code",
   "execution_count": 27,
   "id": "16288dc1",
   "metadata": {},
   "outputs": [],
   "source": [
    "#\\w [a-zA-Z0-9_]\n",
    "#\\W [^a-zA-Z0-9_]"
   ]
  },
  {
   "cell_type": "code",
   "execution_count": 2,
   "id": "224b4b07",
   "metadata": {},
   "outputs": [
    {
     "name": "stdout",
     "output_type": "stream",
     "text": [
      "Kiska no. hai bey\n"
     ]
    }
   ],
   "source": [
    "import re\n",
    "phn = \"888-777-6666\"\n",
    "if re.search(\"\\d{3}-\\d{3}-\\d{4}\",phn):\n",
    "    print(\"Kiska no. hai bey\")"
   ]
  },
  {
   "cell_type": "code",
   "execution_count": 5,
   "id": "6b8d7e35",
   "metadata": {},
   "outputs": [
    {
     "name": "stdout",
     "output_type": "stream",
     "text": [
      "Sahi hai naam\n"
     ]
    }
   ],
   "source": [
    "if re.search('\\w{2,20}\\s\\w{2,20}','Vinay Mishra'):\n",
    "    print(\"Sahi hai naam\")"
   ]
  },
  {
   "cell_type": "code",
   "execution_count": 41,
   "id": "8faeb123",
   "metadata": {},
   "outputs": [
    {
     "name": "stdout",
     "output_type": "stream",
     "text": [
      "Email Matches: 2\n"
     ]
    }
   ],
   "source": [
    "email = 'vinay@knowledgegate.in kgvinay@gmail.com @vm.com kg@.com'\n",
    "print('Email Matches:',len(re.findall('[\\w._%+-]{1,20}@[\\w.-]{2,20}.[A-za-z]{2,3}',email)))"
   ]
  }
 ],
 "metadata": {
  "kernelspec": {
   "display_name": "Python 3 (ipykernel)",
   "language": "python",
   "name": "python3"
  },
  "language_info": {
   "codemirror_mode": {
    "name": "ipython",
    "version": 3
   },
   "file_extension": ".py",
   "mimetype": "text/x-python",
   "name": "python",
   "nbconvert_exporter": "python",
   "pygments_lexer": "ipython3",
   "version": "3.8.5"
  }
 },
 "nbformat": 4,
 "nbformat_minor": 5
}
