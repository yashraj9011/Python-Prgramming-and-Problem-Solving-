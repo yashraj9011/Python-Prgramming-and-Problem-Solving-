{
 "cells": [
  {
   "cell_type": "code",
   "execution_count": 4,
   "metadata": {},
   "outputs": [
    {
     "name": "stdout",
     "output_type": "stream",
     "text": [
      "Not Pallindrome\n"
     ]
    }
   ],
   "source": [
    "#python program to check pallindrome\n",
    "myStr = \"Nitin\"\n",
    "myStr = myStr.lower()\n",
    "revStr = reversed(myStr)\n",
    "if list(myStr) == list(revStr):\n",
    "    print(\"Pallindrome\")\n",
    "else:\n",
    "    print(\"Not Pallindrome\")"
   ]
  },
  {
   "cell_type": "code",
   "execution_count": 8,
   "metadata": {},
   "outputs": [
    {
     "name": "stdout",
     "output_type": "stream",
     "text": [
      "['n', 'i', 't', 'i', 'n']\n",
      "3031177420224\n"
     ]
    }
   ],
   "source": [
    "print(list(myStr))\n",
    "print(id(revStr))"
   ]
  },
  {
   "cell_type": "code",
   "execution_count": 10,
   "metadata": {},
   "outputs": [
    {
     "name": "stdout",
     "output_type": "stream",
     "text": [
      "['Python', 'Program', 'To', 'Sort', 'Words', 'In', 'Alphabetical', 'Order']\n",
      "['Alphabetical', 'In', 'Order', 'Program', 'Python', 'Sort', 'To', 'Words']\n",
      "Alphabetical\n",
      "In\n",
      "Order\n",
      "Program\n",
      "Python\n",
      "Sort\n",
      "To\n",
      "Words\n"
     ]
    }
   ],
   "source": [
    "myStr = \"Python Program To Sort Words In Alphabetical Order\"\n",
    "words = myStr.split()\n",
    "print(words)\n",
    "words.sort()\n",
    "print(words)\n",
    "for word in words:\n",
    "    print(word)"
   ]
  },
  {
   "cell_type": "code",
   "execution_count": null,
   "metadata": {},
   "outputs": [],
   "source": []
  }
 ],
 "metadata": {
  "kernelspec": {
   "display_name": "Python 3 (ipykernel)",
   "language": "python",
   "name": "python3"
  },
  "language_info": {
   "codemirror_mode": {
    "name": "ipython",
    "version": 3
   },
   "file_extension": ".py",
   "mimetype": "text/x-python",
   "name": "python",
   "nbconvert_exporter": "python",
   "pygments_lexer": "ipython3",
   "version": "3.8.5"
  }
 },
 "nbformat": 4,
 "nbformat_minor": 4
}
