{
 "cells": [
  {
   "cell_type": "code",
   "execution_count": 5,
   "metadata": {},
   "outputs": [
    {
     "name": "stdout",
     "output_type": "stream",
     "text": [
      "black\n",
      "200\n",
      "12.566370614359172\n",
      "black\n",
      "200\n",
      "12.566370614359172\n",
      "black\n",
      "200\n",
      "12.566370614359172\n"
     ]
    }
   ],
   "source": [
    "#Polymorphism + Inheritance\n",
    "\n",
    "import math \n",
    "\n",
    "class Shape:\n",
    "    def __init__(self,color = \"black\",filled = False):\n",
    "        self.__color = color\n",
    "        self.__filled = filled\n",
    "        \n",
    "    def get_color(self):\n",
    "        return self.__color\n",
    "    \n",
    "    def set_color(self,color):\n",
    "        self__color = color\n",
    "        \n",
    "    def get_filled(self):\n",
    "        return self.__filled\n",
    "\n",
    "    def set_filled(self,filled):\n",
    "        self.__filled = filled\n",
    "      \n",
    "class Rectangle(Shape):\n",
    "    def __init__(self,length,breadth):\n",
    "        super().__init__()\n",
    "        self.__length = length\n",
    "        self.__breadth = breadth\n",
    "        \n",
    "    def get_length(self):\n",
    "        return self.__length\n",
    "    \n",
    "    def set_length(self,color):\n",
    "        self__length = length\n",
    "        \n",
    "    def get_breadth(self):\n",
    "        return self.__breadth\n",
    "\n",
    "    def set_breadth(self,breadth):\n",
    "        self.__breadth = breadth\n",
    "        \n",
    "    def get_area(self):\n",
    "        return self.__length * self.__breadth\n",
    "    \n",
    "    def get_perimeter(self):\n",
    "        return 2 * (self.__length + self.__breadth)\n",
    "\n",
    "class Circle(Shape):\n",
    "    def __init__(self,radius):\n",
    "        super().__init__()\n",
    "        self.__radius = radius\n",
    "    \n",
    "    def get_radius(self):\n",
    "        return self.__radius\n",
    "    \n",
    "    def set_radius(self,radius):\n",
    "        self.radius = radius\n",
    "        \n",
    "    def get_area(self):\n",
    "        return math.pi * self.__radius **2\n",
    "    \n",
    "    def get_perimeter(self):\n",
    "        return 2 * math.pi * self__radius\n",
    " \n",
    "s = Shape();\n",
    "r = Rectangle(10,20);\n",
    "c = Circle(2);\n",
    "\n",
    "for i in (s,r,c):\n",
    "    print(i.get_color())\n",
    "\n",
    "    for i in (r,c):\n",
    "        print(i.get_area())"
   ]
  },
  {
   "cell_type": "code",
   "execution_count": null,
   "metadata": {},
   "outputs": [],
   "source": []
  }
 ],
 "metadata": {
  "kernelspec": {
   "display_name": "Python 3 (ipykernel)",
   "language": "python",
   "name": "python3"
  },
  "language_info": {
   "codemirror_mode": {
    "name": "ipython",
    "version": 3
   },
   "file_extension": ".py",
   "mimetype": "text/x-python",
   "name": "python",
   "nbconvert_exporter": "python",
   "pygments_lexer": "ipython3",
   "version": "3.8.5"
  }
 },
 "nbformat": 4,
 "nbformat_minor": 4
}
