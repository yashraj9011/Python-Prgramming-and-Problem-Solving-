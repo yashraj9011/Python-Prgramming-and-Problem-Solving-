{
 "cells": [
  {
   "cell_type": "code",
   "execution_count": 7,
   "id": "a0517ecc",
   "metadata": {},
   "outputs": [
    {
     "name": "stdout",
     "output_type": "stream",
     "text": [
      "bhai kuch number daal comma separtaed10,20,30,40,50\n",
      "(50, 40, 30, 20, 10)\n"
     ]
    }
   ],
   "source": [
    "t = eval(input(\"bhai kuch number daal comma separtaed\"))\n",
    "l = list(t)\n",
    "l.reverse()\n",
    "print(tuple(l))"
   ]
  },
  {
   "cell_type": "code",
   "execution_count": null,
   "id": "7171be93",
   "metadata": {},
   "outputs": [],
   "source": []
  }
 ],
 "metadata": {
  "kernelspec": {
   "display_name": "Python 3 (ipykernel)",
   "language": "python",
   "name": "python3"
  },
  "language_info": {
   "codemirror_mode": {
    "name": "ipython",
    "version": 3
   },
   "file_extension": ".py",
   "mimetype": "text/x-python",
   "name": "python",
   "nbconvert_exporter": "python",
   "pygments_lexer": "ipython3",
   "version": "3.8.5"
  }
 },
 "nbformat": 4,
 "nbformat_minor": 5
}
