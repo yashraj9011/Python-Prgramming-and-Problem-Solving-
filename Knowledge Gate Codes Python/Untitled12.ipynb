{
 "cells": [
  {
   "cell_type": "code",
   "execution_count": null,
   "metadata": {},
   "outputs": [
    {
     "name": "stdout",
     "output_type": "stream",
     "text": [
      "Ready to roll? ENTER=Roll.  Q=Quit. roll\n",
      "You rolled a: 5\n"
     ]
    }
   ],
   "source": [
    "import random\n",
    "\n",
    "def roll(sides=6):\n",
    "    numRolled = random.randint(1,6)\n",
    "    return numRolled\n",
    "\n",
    "def main():\n",
    "    sides = 6\n",
    "    rolling = True\n",
    "    while rolling:\n",
    "        rollAgain = input(\"Ready to roll? ENTER=Roll.  Q=Quit. \")\n",
    "        if rollAgain.lower() != \"q\":\n",
    "            numRolled = roll(sides)\n",
    "            print(\"You rolled a:\", numRolled)\n",
    "        else:\n",
    "            rolling = False\n",
    "    print(\"Come back again!\")\n",
    "\n",
    "main()"
   ]
  },
  {
   "cell_type": "code",
   "execution_count": null,
   "metadata": {},
   "outputs": [],
   "source": []
  }
 ],
 "metadata": {
  "kernelspec": {
   "display_name": "Python 3",
   "language": "python",
   "name": "python3"
  },
  "language_info": {
   "codemirror_mode": {
    "name": "ipython",
    "version": 3
   },
   "file_extension": ".py",
   "mimetype": "text/x-python",
   "name": "python",
   "nbconvert_exporter": "python",
   "pygments_lexer": "ipython3",
   "version": "3.8.5"
  }
 },
 "nbformat": 4,
 "nbformat_minor": 4
}
