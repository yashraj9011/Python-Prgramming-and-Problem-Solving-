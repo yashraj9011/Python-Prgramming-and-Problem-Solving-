{
 "cells": [
  {
   "cell_type": "code",
   "execution_count": 1,
   "id": "e0e7f063",
   "metadata": {},
   "outputs": [
    {
     "name": "stdout",
     "output_type": "stream",
     "text": [
      "40320\n"
     ]
    }
   ],
   "source": [
    "f = lambda n : n*f(n-1) if n>0 else 1\n",
    "print(f(8))"
   ]
  },
  {
   "cell_type": "code",
   "execution_count": 3,
   "id": "7725114c",
   "metadata": {},
   "outputs": [
    {
     "name": "stdout",
     "output_type": "stream",
     "text": [
      "string daal beaabbccabacabac\n",
      "aaaaaa\n"
     ]
    }
   ],
   "source": [
    "s = input(\"string daal be \")\n",
    "s1=\"\"\n",
    "i=0\n",
    "for x in s:\n",
    "    if(s.index(x)==i):\n",
    "        s1+=x\n",
    "i+=1\n",
    "print(s1)"
   ]
  },
  {
   "cell_type": "code",
   "execution_count": null,
   "id": "20f282b6",
   "metadata": {},
   "outputs": [],
   "source": []
  }
 ],
 "metadata": {
  "kernelspec": {
   "display_name": "Python 3 (ipykernel)",
   "language": "python",
   "name": "python3"
  },
  "language_info": {
   "codemirror_mode": {
    "name": "ipython",
    "version": 3
   },
   "file_extension": ".py",
   "mimetype": "text/x-python",
   "name": "python",
   "nbconvert_exporter": "python",
   "pygments_lexer": "ipython3",
   "version": "3.8.5"
  }
 },
 "nbformat": 4,
 "nbformat_minor": 5
}
