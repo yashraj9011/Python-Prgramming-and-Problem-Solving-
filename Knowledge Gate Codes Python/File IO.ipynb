{
 "cells": [
  {
   "cell_type": "code",
   "execution_count": 1,
   "metadata": {},
   "outputs": [
    {
     "data": {
      "text/plain": [
       "'C:\\\\Users\\\\vinay\\\\Untitled Folder'"
      ]
     },
     "execution_count": 1,
     "metadata": {},
     "output_type": "execute_result"
    }
   ],
   "source": [
    "import os                   \n",
    "os.getcwd()                 #os.chdir(\"new directory location\")"
   ]
  },
  {
   "cell_type": "code",
   "execution_count": 18,
   "metadata": {},
   "outputs": [],
   "source": [
    "f = open('file','w')      #opens file in current directory"
   ]
  },
  {
   "cell_type": "code",
   "execution_count": 3,
   "metadata": {},
   "outputs": [],
   "source": [
    "f = open('file','w')\n",
    "f.close()                     #not a safe method"
   ]
  },
  {
   "cell_type": "code",
   "execution_count": 4,
   "metadata": {},
   "outputs": [],
   "source": [
    "try:\n",
    "    f = open(\"file.txt\",'w')\n",
    "    #jo krna h kr lo\n",
    "finally:\n",
    "    f.close()"
   ]
  },
  {
   "cell_type": "code",
   "execution_count": 19,
   "metadata": {},
   "outputs": [],
   "source": [
    "#write to a file\n",
    "f = open(\"file\",\"w\")\n",
    "f.write(\"Ex ki photo nhi h yaha\\n\")\n",
    "f.write(\"Kyu bhai aagya swaad\\n\")\n",
    "f.close()"
   ]
  },
  {
   "cell_type": "code",
   "execution_count": 6,
   "metadata": {},
   "outputs": [
    {
     "data": {
      "text/plain": [
       "'Ex ki photo nhi h yaha\\nKyu bhai aagya swaad\\n'"
      ]
     },
     "execution_count": 6,
     "metadata": {},
     "output_type": "execute_result"
    }
   ],
   "source": [
    "f = open(\"file\",\"r\")\n",
    "f.read()"
   ]
  },
  {
   "cell_type": "code",
   "execution_count": 7,
   "metadata": {},
   "outputs": [
    {
     "data": {
      "text/plain": [
       "'Ex'"
      ]
     },
     "execution_count": 7,
     "metadata": {},
     "output_type": "execute_result"
    }
   ],
   "source": [
    "f = open(\"file\",\"r\")\n",
    "f.read(2)"
   ]
  },
  {
   "cell_type": "code",
   "execution_count": 8,
   "metadata": {},
   "outputs": [
    {
     "data": {
      "text/plain": [
       "2"
      ]
     },
     "execution_count": 8,
     "metadata": {},
     "output_type": "execute_result"
    }
   ],
   "source": [
    "f.tell()"
   ]
  },
  {
   "cell_type": "code",
   "execution_count": 9,
   "metadata": {},
   "outputs": [
    {
     "data": {
      "text/plain": [
       "' ki p'"
      ]
     },
     "execution_count": 9,
     "metadata": {},
     "output_type": "execute_result"
    }
   ],
   "source": [
    "f.read(5)"
   ]
  },
  {
   "cell_type": "code",
   "execution_count": 10,
   "metadata": {},
   "outputs": [
    {
     "data": {
      "text/plain": [
       "0"
      ]
     },
     "execution_count": 10,
     "metadata": {},
     "output_type": "execute_result"
    }
   ],
   "source": [
    "f.seek(0)     #brings cursor to initial position"
   ]
  },
  {
   "cell_type": "code",
   "execution_count": 11,
   "metadata": {},
   "outputs": [
    {
     "name": "stdout",
     "output_type": "stream",
     "text": [
      "Ex ki photo nhi h yaha\n",
      "Kyu bhai aagya swaad\n",
      "\n"
     ]
    }
   ],
   "source": [
    "print(f.read())"
   ]
  },
  {
   "cell_type": "code",
   "execution_count": 12,
   "metadata": {},
   "outputs": [
    {
     "name": "stdout",
     "output_type": "stream",
     "text": [
      "Ex ki photo nhi h yaha\n",
      "\n",
      "Kyu bhai aagya swaad\n",
      "\n"
     ]
    }
   ],
   "source": [
    "f.seek(0)\n",
    "for line in f:\n",
    "    print(line)"
   ]
  },
  {
   "cell_type": "code",
   "execution_count": 13,
   "metadata": {},
   "outputs": [
    {
     "data": {
      "text/plain": [
       "'Ex ki photo nhi h yaha\\n'"
      ]
     },
     "execution_count": 13,
     "metadata": {},
     "output_type": "execute_result"
    }
   ],
   "source": [
    "f = open(\"file\",\"r\")\n",
    "f.readline()"
   ]
  },
  {
   "cell_type": "code",
   "execution_count": 14,
   "metadata": {},
   "outputs": [
    {
     "data": {
      "text/plain": [
       "'Kyu bhai aagya swaad\\n'"
      ]
     },
     "execution_count": 14,
     "metadata": {},
     "output_type": "execute_result"
    }
   ],
   "source": [
    "f.readline()"
   ]
  },
  {
   "cell_type": "code",
   "execution_count": 15,
   "metadata": {},
   "outputs": [
    {
     "data": {
      "text/plain": [
       "''"
      ]
     },
     "execution_count": 15,
     "metadata": {},
     "output_type": "execute_result"
    }
   ],
   "source": [
    "f.readline()"
   ]
  },
  {
   "cell_type": "code",
   "execution_count": 16,
   "metadata": {},
   "outputs": [
    {
     "data": {
      "text/plain": [
       "['Ex ki photo nhi h yaha\\n', 'Kyu bhai aagya swaad\\n']"
      ]
     },
     "execution_count": 16,
     "metadata": {},
     "output_type": "execute_result"
    }
   ],
   "source": [
    "f.seek(0)\n",
    "f.readlines()"
   ]
  },
  {
   "cell_type": "code",
   "execution_count": 17,
   "metadata": {},
   "outputs": [
    {
     "data": {
      "text/plain": [
       "['.ipynb_checkpoints',\n",
       " 'Bar Graph and pie Chart.ipynb',\n",
       " 'Break & Continue.ipynb',\n",
       " 'Check divisibility of a number.ipynb',\n",
       " 'Check whther a year is leap year or not.ipynb',\n",
       " 'Comaparing 2 Tuple.ipynb',\n",
       " 'Comments and Indentation.ipynb',\n",
       " 'Datatypes.ipynb',\n",
       " 'Debugging.ipynb',\n",
       " 'Dict-2.ipynb',\n",
       " 'Euclids Algorithm.ipynb',\n",
       " 'file',\n",
       " 'File IO part 2.ipynb',\n",
       " 'File IO.ipynb',\n",
       " 'file.txt',\n",
       " 'Function Arguments.ipynb',\n",
       " 'Function-1.ipynb',\n",
       " 'Function-2.ipynb',\n",
       " 'Function-3.ipynb',\n",
       " 'How to find next prime.ipynb',\n",
       " 'How to print first 10 natural numbers.ipynb',\n",
       " 'How to print n prime numbers.ipynb',\n",
       " 'How to remove duplicates.ipynb',\n",
       " 'Identifiers.ipynb',\n",
       " 'KG',\n",
       " 'Lambda Functions.ipynb',\n",
       " 'List 1.ipynb',\n",
       " 'list 2.ipynb',\n",
       " 'list3.ipynb',\n",
       " 'loops.ipynb',\n",
       " 'Modules.ipynb',\n",
       " 'Multi Level Inheritance.ipynb',\n",
       " 'Multiple Inheritance.ipynb',\n",
       " 'Numpy arrays.ipynb',\n",
       " 'OOPS-1.ipynb',\n",
       " 'OOPS-2.ipynb',\n",
       " 'Operators in Python.ipynb',\n",
       " 'Polymorphism and Inheritance.ipynb',\n",
       " 'Polymorphism.ipynb',\n",
       " 'Recursive Functions.ipynb',\n",
       " 'Reverse a string using slicing.ipynb',\n",
       " 'Reverse a tuple.ipynb',\n",
       " 'SET -1.ipynb',\n",
       " 'SET-2.ipynb',\n",
       " 'SET-3 .ipynb',\n",
       " 'Single line code for factorial of a number.ipynb',\n",
       " 'Sort a list.ipynb',\n",
       " 'Sort in dictionary order.ipynb',\n",
       " 'Standard IO.ipynb',\n",
       " 'String DataStructure.ipynb',\n",
       " 'String-1.ipynb',\n",
       " 'String-2.ipynb',\n",
       " 'String-3.ipynb',\n",
       " 'Sum of n natural number with two approach.ipynb',\n",
       " 'Sum of squares using recursion.ipynb',\n",
       " 'test.txt',\n",
       " 'Tupple.ipynb',\n",
       " 'Untitled11.ipynb',\n",
       " 'Untitled12.ipynb',\n",
       " 'Untitled13.ipynb',\n",
       " 'Untitled14.ipynb',\n",
       " 'Untitled15.ipynb',\n",
       " 'Untitled16.ipynb',\n",
       " 'Untitled17.ipynb',\n",
       " 'Untitled3.ipynb',\n",
       " 'Untitled4.ipynb',\n",
       " 'Untitled6.ipynb',\n",
       " 'Untitled8.ipynb',\n",
       " 'Untitled9.ipynb']"
      ]
     },
     "execution_count": 17,
     "metadata": {},
     "output_type": "execute_result"
    }
   ],
   "source": [
    "os.listdir(os.getcwd())"
   ]
  },
  {
   "cell_type": "code",
   "execution_count": null,
   "metadata": {},
   "outputs": [],
   "source": []
  },
  {
   "cell_type": "code",
   "execution_count": null,
   "metadata": {},
   "outputs": [],
   "source": []
  }
 ],
 "metadata": {
  "kernelspec": {
   "display_name": "Python 3 (ipykernel)",
   "language": "python",
   "name": "python3"
  },
  "language_info": {
   "codemirror_mode": {
    "name": "ipython",
    "version": 3
   },
   "file_extension": ".py",
   "mimetype": "text/x-python",
   "name": "python",
   "nbconvert_exporter": "python",
   "pygments_lexer": "ipython3",
   "version": "3.8.5"
  }
 },
 "nbformat": 4,
 "nbformat_minor": 4
}
