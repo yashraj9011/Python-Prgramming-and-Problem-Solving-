{
 "cells": [
  {
   "cell_type": "code",
   "execution_count": 2,
   "metadata": {},
   "outputs": [
    {
     "name": "stdout",
     "output_type": "stream",
     "text": [
      "Hello Chintu,The Nibba\n"
     ]
    }
   ],
   "source": [
    "def greet(name,msg):\n",
    "    \"\"\"\n",
    "    greet krunga sbko accept ex\n",
    "    \"\"\"\n",
    "    print(\"Hello {0},{1}\".format(name,msg))\n",
    "    \n",
    "greet(\"Chintu\",\"The Nibba\")"
   ]
  },
  {
   "cell_type": "code",
   "execution_count": 3,
   "metadata": {},
   "outputs": [
    {
     "ename": "TypeError",
     "evalue": "greet() missing 1 required positional argument: 'msg'",
     "output_type": "error",
     "traceback": [
      "\u001b[1;31m---------------------------------------------------------------------------\u001b[0m",
      "\u001b[1;31mTypeError\u001b[0m                                 Traceback (most recent call last)",
      "\u001b[1;32m<ipython-input-3-87de840da6be>\u001b[0m in \u001b[0;36m<module>\u001b[1;34m\u001b[0m\n\u001b[1;32m----> 1\u001b[1;33m \u001b[0mgreet\u001b[0m\u001b[1;33m(\u001b[0m\u001b[1;34m\"mintu\"\u001b[0m\u001b[1;33m)\u001b[0m\u001b[1;33m\u001b[0m\u001b[1;33m\u001b[0m\u001b[0m\n\u001b[0m",
      "\u001b[1;31mTypeError\u001b[0m: greet() missing 1 required positional argument: 'msg'"
     ]
    }
   ],
   "source": [
    "greet(\"mintu\")"
   ]
  },
  {
   "cell_type": "code",
   "execution_count": 11,
   "metadata": {},
   "outputs": [
    {
     "name": "stdout",
     "output_type": "stream",
     "text": [
      "Hello Chintu, Good Night\n"
     ]
    }
   ],
   "source": [
    "#default argument\n",
    "def greet(name,msg = \"Good Morning\"):        #try to make default argument as last argument\n",
    "    \"\"\"\n",
    "    greets the person \n",
    "    \"\"\"\n",
    "    print(\"Hello {0}, {1}\".format(name,msg))\n",
    "greet(\"Chintu\",\"Good Night\")    \n"
   ]
  },
  {
   "cell_type": "code",
   "execution_count": 5,
   "metadata": {},
   "outputs": [
    {
     "name": "stdout",
     "output_type": "stream",
     "text": [
      "Hello Mintu, Good Morning\n"
     ]
    }
   ],
   "source": [
    "greet(\"Mintu\")"
   ]
  },
  {
   "cell_type": "code",
   "execution_count": 6,
   "metadata": {},
   "outputs": [
    {
     "name": "stdout",
     "output_type": "stream",
     "text": [
      "Hello Chintu,Good Morning\n"
     ]
    }
   ],
   "source": [
    "#keyword arguments used when variable length of arguments to a function\n",
    "def greet(**kwargs):\n",
    "    \"\"\"\n",
    "    greet krunga jaise sikhaoge\n",
    "    \"\"\"\n",
    "    if kwargs:\n",
    "        print(\"Hello {0},{1}\".format(kwargs['name'],kwargs['msg']))\n",
    "greet(name = \"Chintu\",msg = \"Good Morning\")        "
   ]
  },
  {
   "cell_type": "code",
   "execution_count": 9,
   "metadata": {},
   "outputs": [
    {
     "name": "stdout",
     "output_type": "stream",
     "text": [
      "('chintu', 'mintu', 'chinti', 'minti')\n",
      "Hello, chintu\n",
      "Hello, mintu\n",
      "Hello, chinti\n",
      "Hello, minti\n"
     ]
    }
   ],
   "source": [
    "#arbitrary no of arguments passed to a function\n",
    "def greet (*names):\n",
    "    \"\"\"\n",
    "    greets krega sbko in the name of tuple\n",
    "    \"\"\"\n",
    "    print(names)\n",
    "    for name in names:\n",
    "        print(\"Hello, {0}\".format(name))\n",
    "greet(\"chintu\",\"mintu\",\"chinti\",\"minti\")"
   ]
  },
  {
   "cell_type": "code",
   "execution_count": null,
   "metadata": {},
   "outputs": [],
   "source": []
  }
 ],
 "metadata": {
  "kernelspec": {
   "display_name": "Python 3 (ipykernel)",
   "language": "python",
   "name": "python3"
  },
  "language_info": {
   "codemirror_mode": {
    "name": "ipython",
    "version": 3
   },
   "file_extension": ".py",
   "mimetype": "text/x-python",
   "name": "python",
   "nbconvert_exporter": "python",
   "pygments_lexer": "ipython3",
   "version": "3.8.5"
  }
 },
 "nbformat": 4,
 "nbformat_minor": 4
}
