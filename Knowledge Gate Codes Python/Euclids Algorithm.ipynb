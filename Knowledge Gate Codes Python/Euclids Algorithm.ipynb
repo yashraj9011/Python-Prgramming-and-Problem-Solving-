{
 "cells": [
  {
   "cell_type": "code",
   "execution_count": null,
   "id": "825cf66b",
   "metadata": {},
   "outputs": [
    {
     "name": "stdout",
     "output_type": "stream",
     "text": [
      "4\n"
     ]
    }
   ],
   "source": [
    "a = int(input())\n",
    "b = int(input())\n",
    "if a>b:\n",
    "    l=a\n",
    "else:\n",
    "    l=b\n",
    "for i in range(l,(a*b)+1,l):\n",
    "    if(i%a==0 and i%b==0):\n",
    "        break\n",
    "lcm=i\n",
    "hcf=(a*b)//lcm\n",
    "print(\"LCM is: \",lcm)\n",
    "print(\"HCF is: \",hcf)"
   ]
  },
  {
   "cell_type": "code",
   "execution_count": null,
   "id": "1764cdc6",
   "metadata": {},
   "outputs": [],
   "source": []
  }
 ],
 "metadata": {
  "kernelspec": {
   "display_name": "Python 3 (ipykernel)",
   "language": "python",
   "name": "python3"
  },
  "language_info": {
   "codemirror_mode": {
    "name": "ipython",
    "version": 3
   },
   "file_extension": ".py",
   "mimetype": "text/x-python",
   "name": "python",
   "nbconvert_exporter": "python",
   "pygments_lexer": "ipython3",
   "version": "3.8.5"
  }
 },
 "nbformat": 4,
 "nbformat_minor": 5
}
