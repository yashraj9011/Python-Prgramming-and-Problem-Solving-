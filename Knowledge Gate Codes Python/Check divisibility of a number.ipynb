{
 "cells": [
  {
   "cell_type": "code",
   "execution_count": 1,
   "id": "176d6e3b",
   "metadata": {},
   "outputs": [
    {
     "name": "stdout",
     "output_type": "stream",
     "text": [
      "bhai no de12172715371679\n",
      "kisse divide krna hai3\n",
      "divide nahi hua\n"
     ]
    }
   ],
   "source": [
    "n = int(input(\"bhai no de\"))\n",
    "d = int(input(\"kisse divide krna hai\"))\n",
    "if(n%d)==0:\n",
    "    print(\"divide hogya\")\n",
    "else:\n",
    "    print(\"divide nahi hua\")"
   ]
  },
  {
   "cell_type": "code",
   "execution_count": null,
   "id": "aad86a7f",
   "metadata": {},
   "outputs": [],
   "source": []
  }
 ],
 "metadata": {
  "kernelspec": {
   "display_name": "Python 3 (ipykernel)",
   "language": "python",
   "name": "python3"
  },
  "language_info": {
   "codemirror_mode": {
    "name": "ipython",
    "version": 3
   },
   "file_extension": ".py",
   "mimetype": "text/x-python",
   "name": "python",
   "nbconvert_exporter": "python",
   "pygments_lexer": "ipython3",
   "version": "3.8.5"
  }
 },
 "nbformat": 4,
 "nbformat_minor": 5
}
