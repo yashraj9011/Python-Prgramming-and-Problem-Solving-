{
 "cells": [
  {
   "cell_type": "markdown",
   "metadata": {},
   "source": [
    "# Standard IO in Python"
   ]
  },
  {
   "cell_type": "code",
   "execution_count": 1,
   "metadata": {},
   "outputs": [
    {
     "name": "stdout",
     "output_type": "stream",
     "text": [
      "kya coder bnega re tu\n"
     ]
    }
   ],
   "source": [
    "print(\"kya coder bnega re tu\")"
   ]
  },
  {
   "cell_type": "code",
   "execution_count": 5,
   "metadata": {},
   "outputs": [
    {
     "name": "stdout",
     "output_type": "stream",
     "text": [
      "value of a is 10\n",
      "value of a is 10\n"
     ]
    }
   ],
   "source": [
    "a = 10\n",
    "print(\"value of a is\",a)\n",
    "print(\"value of a is\" + \" \" + str(a))"
   ]
  },
  {
   "cell_type": "code",
   "execution_count": 3,
   "metadata": {},
   "outputs": [
    {
     "name": "stdout",
     "output_type": "stream",
     "text": [
      "value of a is 10 and b is 20\n"
     ]
    }
   ],
   "source": [
    "a = 10 ; b = 20  #multiple statement in single line\n",
    "print(\"value of a is {} and b is {}\" .format(a,b))  #default"
   ]
  },
  {
   "cell_type": "code",
   "execution_count": 4,
   "metadata": {},
   "outputs": [
    {
     "name": "stdout",
     "output_type": "stream",
     "text": [
      "value of a is 20 and b is 10\n"
     ]
    }
   ],
   "source": [
    "a = 10 ; b = 20  #multiple statement in single line\n",
    "print(\"value of a is {1} and b is {0}\" .format(a,b))  #specify position "
   ]
  },
  {
   "cell_type": "code",
   "execution_count": 5,
   "metadata": {},
   "outputs": [
    {
     "name": "stdout",
     "output_type": "stream",
     "text": [
      "Hello Vinay,kya kr rhe ho\n"
     ]
    }
   ],
   "source": [
    "#We can use keyword arguments to format the string\n",
    "print(\"Hello {name},{greeting}\" .format(name=\"Vinay\",greeting=\"kya kr rhe ho\"))"
   ]
  },
  {
   "cell_type": "code",
   "execution_count": 1,
   "metadata": {},
   "outputs": [
    {
     "name": "stdout",
     "output_type": "stream",
     "text": [
      "The story of Vinay,Sir,kgcoding\n"
     ]
    }
   ],
   "source": [
    "#We can use keyword arguments to format the string\n",
    "print(\"The story of {0},{1},{other}\" .format(\"Vinay\",\"Sir\",other = \"kgcoding\"))"
   ]
  },
  {
   "cell_type": "code",
   "execution_count": 8,
   "metadata": {},
   "outputs": [
    {
     "name": "stdout",
     "output_type": "stream",
     "text": [
      "Kuch daal bey10\n",
      "10\n"
     ]
    }
   ],
   "source": [
    "n = int(input(\"Kuch daal bey\"))\n",
    "print(n)"
   ]
  },
  {
   "cell_type": "code",
   "execution_count": 11,
   "metadata": {},
   "outputs": [
    {
     "name": "stdout",
     "output_type": "stream",
     "text": [
      "10 20\n",
      "10\n",
      "20\n"
     ]
    }
   ],
   "source": [
    "n,k = map(int,input().split(' '))\n",
    "print(n)\n",
    "print(k)"
   ]
  },
  {
   "cell_type": "code",
   "execution_count": null,
   "metadata": {},
   "outputs": [],
   "source": []
  }
 ],
 "metadata": {
  "kernelspec": {
   "display_name": "Python 3 (ipykernel)",
   "language": "python",
   "name": "python3"
  },
  "language_info": {
   "codemirror_mode": {
    "name": "ipython",
    "version": 3
   },
   "file_extension": ".py",
   "mimetype": "text/x-python",
   "name": "python",
   "nbconvert_exporter": "python",
   "pygments_lexer": "ipython3",
   "version": "3.8.5"
  }
 },
 "nbformat": 4,
 "nbformat_minor": 4
}
