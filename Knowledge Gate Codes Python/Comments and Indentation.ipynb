{
 "cells": [
  {
   "cell_type": "code",
   "execution_count": null,
   "id": "c8b28ec2",
   "metadata": {},
   "outputs": [],
   "source": [
    "#program to forget your crush"
   ]
  },
  {
   "cell_type": "code",
   "execution_count": 3,
   "id": "97b6f8a5",
   "metadata": {},
   "outputs": [
    {
     "name": "stdout",
     "output_type": "stream",
     "text": [
      "kyu bete python pdh rhe ho!\n"
     ]
    }
   ],
   "source": [
    "\"\"\"comment hai bey\n",
    "kya pdh hai bhai\"\"\"\n",
    "print(\"kyu bete python pdh rhe ho!\")"
   ]
  },
  {
   "cell_type": "code",
   "execution_count": 1,
   "id": "450f8ae4",
   "metadata": {},
   "outputs": [
    {
     "ename": "IndentationError",
     "evalue": "expected an indented block (Temp/ipykernel_320/3029611634.py, line 3)",
     "output_type": "error",
     "traceback": [
      "\u001b[1;36m  File \u001b[1;32m\"C:\\Users\\vinay\\AppData\\Local\\Temp/ipykernel_320/3029611634.py\"\u001b[1;36m, line \u001b[1;32m3\u001b[0m\n\u001b[1;33m    print(\"5 se bada hai\")\u001b[0m\n\u001b[1;37m    ^\u001b[0m\n\u001b[1;31mIndentationError\u001b[0m\u001b[1;31m:\u001b[0m expected an indented block\n"
     ]
    }
   ],
   "source": [
    "a = 7\n",
    "if(a>5):\n",
    "    print(\"5 se bada hai\")\n",
    "    print(\"kuch bhi likhu mai if ke andar hu\")\n",
    "print(\"kya yaar itna bada no.\")    "
   ]
  },
  {
   "cell_type": "code",
   "execution_count": null,
   "id": "e6c702e0",
   "metadata": {},
   "outputs": [],
   "source": [
    "for i in range(1,10):\n",
    "    print(\"hi crush!\")\n",
    "print(\"Bye Crush\")    "
   ]
  },
  {
   "cell_type": "code",
   "execution_count": null,
   "id": "67f86746",
   "metadata": {},
   "outputs": [],
   "source": []
  }
 ],
 "metadata": {
  "kernelspec": {
   "display_name": "Python 3 (ipykernel)",
   "language": "python",
   "name": "python3"
  },
  "language_info": {
   "codemirror_mode": {
    "name": "ipython",
    "version": 3
   },
   "file_extension": ".py",
   "mimetype": "text/x-python",
   "name": "python",
   "nbconvert_exporter": "python",
   "pygments_lexer": "ipython3",
   "version": "3.8.5"
  }
 },
 "nbformat": 4,
 "nbformat_minor": 5
}
