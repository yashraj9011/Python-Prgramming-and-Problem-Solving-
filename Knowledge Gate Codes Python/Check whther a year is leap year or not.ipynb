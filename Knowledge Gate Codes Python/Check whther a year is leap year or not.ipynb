{
 "cells": [
  {
   "cell_type": "code",
   "execution_count": 4,
   "id": "a8902e1e",
   "metadata": {},
   "outputs": [
    {
     "name": "stdout",
     "output_type": "stream",
     "text": [
      "aur bhai year de ek: 1800\n",
      "Non Leap Year\n"
     ]
    }
   ],
   "source": [
    "n = int(input(\"aur bhai year de ek: \"))\n",
    "if n % 400 == 0:\n",
    "    print(\"Leap Year\")\n",
    "elif n%4 == 0 and n%100!=0:\n",
    "    print(\"Leap Year\")\n",
    "else:\n",
    "    print(\"Non Leap Year\")"
   ]
  },
  {
   "cell_type": "code",
   "execution_count": null,
   "id": "a2972864",
   "metadata": {},
   "outputs": [],
   "source": []
  },
  {
   "cell_type": "code",
   "execution_count": null,
   "id": "b57c9ad4",
   "metadata": {},
   "outputs": [],
   "source": []
  }
 ],
 "metadata": {
  "kernelspec": {
   "display_name": "Python 3 (ipykernel)",
   "language": "python",
   "name": "python3"
  },
  "language_info": {
   "codemirror_mode": {
    "name": "ipython",
    "version": 3
   },
   "file_extension": ".py",
   "mimetype": "text/x-python",
   "name": "python",
   "nbconvert_exporter": "python",
   "pygments_lexer": "ipython3",
   "version": "3.8.5"
  }
 },
 "nbformat": 4,
 "nbformat_minor": 5
}
