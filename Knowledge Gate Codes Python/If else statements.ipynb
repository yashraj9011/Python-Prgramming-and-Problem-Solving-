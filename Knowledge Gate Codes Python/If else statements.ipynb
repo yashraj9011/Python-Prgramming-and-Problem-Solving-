{
 "cells": [
  {
   "cell_type": "markdown",
   "metadata": {},
   "source": [
    "# If-else"
   ]
  },
  {
   "cell_type": "code",
   "execution_count": 1,
   "metadata": {},
   "outputs": [
    {
     "name": "stdout",
     "output_type": "stream",
     "text": [
      "m positive hu be\n",
      "mai jhukega nhi sala\n"
     ]
    }
   ],
   "source": [
    "num = 10 \n",
    "if (-1) :                             # 0 , None , False are treated as 0 rest are non zero\n",
    "    print(\"m positive hu be\")\n",
    "print(\"mai jhukega nhi sala\")    "
   ]
  },
  {
   "cell_type": "code",
   "execution_count": 2,
   "metadata": {},
   "outputs": [
    {
     "name": "stdout",
     "output_type": "stream",
     "text": [
      "m positive hu be\n"
     ]
    }
   ],
   "source": [
    "num = 12 \n",
    "if num > 10:                             \n",
    "    print(\"m positive hu be\")\n",
    "else:   \n",
    "    print(\"kyu bete mauj krdi\")    "
   ]
  },
  {
   "cell_type": "code",
   "execution_count": 12,
   "metadata": {},
   "outputs": [
    {
     "name": "stdout",
     "output_type": "stream",
     "text": [
      "negative hu be\n"
     ]
    }
   ],
   "source": [
    "num = 10.5 \n",
    "if num > 10.6:\n",
    "    print(\"Postive hu be\")\n",
    "elif num == 0:\n",
    "    print(\"zero hu be\")\n",
    "else:\n",
    "    print(\"negative hu be\")"
   ]
  },
  {
   "cell_type": "code",
   "execution_count": 3,
   "metadata": {},
   "outputs": [
    {
     "name": "stdout",
     "output_type": "stream",
     "text": [
      "zero nhi hu be\n"
     ]
    }
   ],
   "source": [
    "num = 15 \n",
    "if num >= 12:\n",
    "    if num == 0:\n",
    "        print(\"zero hu be\")\n",
    "    else:\n",
    "        print(\"zero nhi hu be\")\n",
    "else:\n",
    "    print(\"negative hu be\")"
   ]
  },
  {
   "cell_type": "code",
   "execution_count": 4,
   "metadata": {},
   "outputs": [
    {
     "name": "stdout",
     "output_type": "stream",
     "text": [
      "largest value is  14\n"
     ]
    }
   ],
   "source": [
    "# Python program to find the largest number among the three input numbers\n",
    "\n",
    "# change the values of num1, num2 and num3\n",
    "# for a different result\n",
    "a = 10\n",
    "b = 14\n",
    "c = 12\n",
    "\n",
    "# uncomment following lines to take three numbers from user\n",
    "#num1 = float(input(\"Enter first number: \"))\n",
    "#num2 = float(input(\"Enter second number: \"))\n",
    "#num3 = float(input(\"Enter third number: \"))\n",
    "\n",
    "if a>b:\n",
    "    if a>c:\n",
    "        k=a;\n",
    "    else:\n",
    "        k=c;\n",
    "else: \n",
    "    if b>c:\n",
    "        k=b;\n",
    "    else:\n",
    "        k=c;\n",
    "print(\"largest value is \",k)        "
   ]
  },
  {
   "cell_type": "code",
   "execution_count": null,
   "metadata": {},
   "outputs": [],
   "source": []
  }
 ],
 "metadata": {
  "kernelspec": {
   "display_name": "Python 3 (ipykernel)",
   "language": "python",
   "name": "python3"
  },
  "language_info": {
   "codemirror_mode": {
    "name": "ipython",
    "version": 3
   },
   "file_extension": ".py",
   "mimetype": "text/x-python",
   "name": "python",
   "nbconvert_exporter": "python",
   "pygments_lexer": "ipython3",
   "version": "3.8.5"
  }
 },
 "nbformat": 4,
 "nbformat_minor": 4
}
