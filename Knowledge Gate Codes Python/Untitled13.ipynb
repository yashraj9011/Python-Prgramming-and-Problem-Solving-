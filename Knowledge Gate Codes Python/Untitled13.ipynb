{
 "cells": [
  {
   "cell_type": "code",
   "execution_count": null,
   "metadata": {},
   "outputs": [
    {
     "name": "stdout",
     "output_type": "stream",
     "text": [
      "Welcome to the Magic 8 Ball\n"
     ]
    }
   ],
   "source": [
    "import random\n",
    "\n",
    "#List of possible answer the 8 ball can choose from\n",
    "potential_answers = ['yes','no','maybe','try again later',\n",
    "                     'you wish','100% yes','no freaking way']\n",
    "\n",
    "print(\"Welcome to the Magic 8 Ball\")\n",
    "\n",
    "#Infinite loop to keep the game running forever\n",
    "while True:\n",
    "    #Asks user for input, no need to store it\n",
    "    input(\"Ask a yes or no question > \")\n",
    "\n",
    "    #Choose a random number between 0 and the length of the answers list\n",
    "    rand_num = random.randrange(len(potential_answers))\n",
    "    \n",
    "    #Use random number as index to pick a response from the answers list\n",
    "    response = potential_answers[rand_num]\n",
    "    \n",
    "    print(response)"
   ]
  },
  {
   "cell_type": "code",
   "execution_count": null,
   "metadata": {},
   "outputs": [],
   "source": []
  }
 ],
 "metadata": {
  "kernelspec": {
   "display_name": "Python 3",
   "language": "python",
   "name": "python3"
  },
  "language_info": {
   "codemirror_mode": {
    "name": "ipython",
    "version": 3
   },
   "file_extension": ".py",
   "mimetype": "text/x-python",
   "name": "python",
   "nbconvert_exporter": "python",
   "pygments_lexer": "ipython3",
   "version": "3.8.5"
  }
 },
 "nbformat": 4,
 "nbformat_minor": 4
}
