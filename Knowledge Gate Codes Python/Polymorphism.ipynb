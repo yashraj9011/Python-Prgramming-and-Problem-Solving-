{
 "cells": [
  {
   "cell_type": "code",
   "execution_count": 1,
   "metadata": {},
   "outputs": [
    {
     "name": "stdout",
     "output_type": "stream",
     "text": [
      "function p in A\n",
      "function p in B\n",
      "*********************\n",
      "function p in A\n",
      "function p in B\n"
     ]
    }
   ],
   "source": [
    "#Class Level Polymorphism\n",
    "class A:\n",
    "    def p(self):\n",
    "        return \"function p in A\"\n",
    "class B:\n",
    "    def p(self):\n",
    "        return \"function p in B\"\n",
    "\n",
    "a = A();\n",
    "b = B();\n",
    "\n",
    "for i in (a,b):\n",
    "    print(i.p())    #function that runs depends on the object \n",
    "    \n",
    "print(\"*********************\")\n",
    "\n",
    "x = a;\n",
    "print(x.p());\n",
    "\n",
    "x = b;\n",
    "print(x.p());"
   ]
  },
  {
   "cell_type": "code",
   "execution_count": null,
   "metadata": {},
   "outputs": [],
   "source": []
  }
 ],
 "metadata": {
  "kernelspec": {
   "display_name": "Python 3",
   "language": "python",
   "name": "python3"
  },
  "language_info": {
   "codemirror_mode": {
    "name": "ipython",
    "version": 3
   },
   "file_extension": ".py",
   "mimetype": "text/x-python",
   "name": "python",
   "nbconvert_exporter": "python",
   "pygments_lexer": "ipython3",
   "version": "3.8.5"
  }
 },
 "nbformat": 4,
 "nbformat_minor": 4
}
